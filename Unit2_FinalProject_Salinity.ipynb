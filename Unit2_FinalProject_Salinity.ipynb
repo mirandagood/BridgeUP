{
 "cells": [
  {
   "cell_type": "code",
   "execution_count": 1,
   "metadata": {},
   "outputs": [],
   "source": [
    "import matplotlib.pyplot as plt\n",
    "import numpy as np\n",
    "import csv # This is a library that allows us to work with CSV files even if we're not using pandas"
   ]
  },
  {
   "cell_type": "code",
   "execution_count": 2,
   "metadata": {},
   "outputs": [],
   "source": [
    "csvFile = open(\"PracticalSalinityUnits_Dec_2011.csv\", 'r') \n",
    "# 'r' = read from file but not gunna make any changes.\n",
    "csvReader = csv.reader(csvFile, delimiter=',')\n",
    "#CSV.READER IS A FUNCTION\n",
    "data_lists = list(csvReader)"
   ]
  },
  {
   "cell_type": "code",
   "execution_count": 3,
   "metadata": {},
   "outputs": [],
   "source": [
    "#print(data_lists[0])"
   ]
  },
  {
   "cell_type": "code",
   "execution_count": 4,
   "metadata": {},
   "outputs": [
    {
     "data": {
      "text/plain": [
       "720"
      ]
     },
     "execution_count": 4,
     "metadata": {},
     "output_type": "execute_result"
    }
   ],
   "source": [
    "len(data_lists[0])"
   ]
  },
  {
   "cell_type": "code",
   "execution_count": 5,
   "metadata": {},
   "outputs": [
    {
     "data": {
      "text/plain": [
       "360"
      ]
     },
     "execution_count": 5,
     "metadata": {},
     "output_type": "execute_result"
    }
   ],
   "source": [
    "len(data_lists)"
   ]
  },
  {
   "cell_type": "code",
   "execution_count": 6,
   "metadata": {},
   "outputs": [],
   "source": [
    "height = len(data_lists)\n",
    "width = len(data_lists[0])"
   ]
  },
  {
   "cell_type": "code",
   "execution_count": 7,
   "metadata": {},
   "outputs": [],
   "source": [
    "grid = np.empty([height, width, 3], dtype=np.uint8) \n"
   ]
  },
  {
   "cell_type": "code",
   "execution_count": 8,
   "metadata": {},
   "outputs": [],
   "source": [
    "all_values = [] # We will fill in this empty list with all the data values as we go\n",
    "\n",
    "for r, row in enumerate(data_lists):\n",
    "    for c, value in enumerate(row):\n",
    "        if float(value) < 99999:\n",
    "            all_values.append(float(value)) # This is where we fill in the list with all data values\n",
    "        elif float(value) <= 30.0:\n",
    "            grid[r, c] = [232, 9, 9] # brightr red\n",
    "        elif float(value) <= 31.0:\n",
    "            grid[r, c] = [237, 61, 90] # red with pinkk hue\n",
    "        elif float(value) <= 32.0:\n",
    "            grid[r, c] = [232, 37, 105] # bright pink\n",
    "        elif float(value) <= 33.0:\n",
    "            grid[r, c] = [211, 27, 125] # mature pink\n",
    "        elif float(value) <= 34:\n",
    "            grid[r, c] = [198, 33, 154] # pink with a purple hue\n",
    "        elif float(value) <= 35:\n",
    "            grid[r, c] = [188, 9, 182] # purple vomit\n",
    "        elif float(value) <= 36:\n",
    "            grid[r, c] = [169, 31, 193] # dark pirple\n",
    "        elif float(value) <= 36.5:\n",
    "            grid[r, c] = [131, 19, 191] # royalty purple darker\n",
    "        elif float(value) <= 37:\n",
    "            grid[r, c] = [107, 21, 219] # purple with bluish hue\n",
    "        elif float(value) <= 38.0:\n",
    "            grid[r, c] = [68, 17, 221] # blue\n",
    "        else:\n",
    "            grid[r, c] = [48, 29, 10] #brown"
   ]
  },
  {
   "cell_type": "code",
   "execution_count": 9,
   "metadata": {},
   "outputs": [
    {
     "name": "stdout",
     "output_type": "stream",
     "text": [
      "30.0\n",
      "38.0\n",
      "34.80352288138266\n"
     ]
    }
   ],
   "source": [
    "print(min(all_values))\n",
    "print(max(all_values))\n",
    "print(np.mean(all_values))"
   ]
  },
  {
   "cell_type": "code",
   "execution_count": 10,
   "metadata": {},
   "outputs": [
    {
     "data": {
      "image/png": "[encoded data removed]",
      "text/plain": [
       "<Figure size 432x288 with 1 Axes>"
      ]
     },
     "metadata": {},
     "output_type": "display_data"
    }
   ],
   "source": [
    "plt.title(\"Global sea temperature in Celsius\")\n",
    "plt.imshow(grid)\n",
    "plt.axis('off')\n",
    "plt.savefig(\"Sea_temperature_2017.png\",dpi = 1000)\n",
    "plt.show()"
   ]
  },
  {
   "cell_type": "code",
   "execution_count": null,
   "metadata": {},
   "outputs": [],
   "source": []
  },
  {
   "cell_type": "code",
   "execution_count": null,
   "metadata": {},
   "outputs": [],
   "source": []
  }
 ],
 "metadata": {
  "kernelspec": {
   "display_name": "Python 3",
   "language": "python",
   "name": "python3"
  },
  "language_info": {
   "codemirror_mode": {
    "name": "ipython",
    "version": 3
   },
   "file_extension": ".py",
   "mimetype": "text/x-python",
   "name": "python",
   "nbconvert_exporter": "python",
   "pygments_lexer": "ipython3",
   "version": "3.6.5"
  }
 },
 "nbformat": 4,
 "nbformat_minor": 2
}
